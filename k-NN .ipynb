{
 "cells": [
  {
   "cell_type": "markdown",
   "metadata": {},
   "source": [
    "# k-NN implementation"
   ]
  },
  {
   "cell_type": "markdown",
   "metadata": {},
   "source": [
    "## What is k-NN?\n",
    " \n",
    "As the name suggest **k-NN** makes use of the k nearest neighbours for prediction. k-NN makes use of the labeled training and finds k nearest/similar neighbours to the test point.  The prediction attribute of the most similar data points is summarized and returned as the prediction for the test data.<br>\n",
    "\n",
    "The kNN algorithm belongs to the family of **instance-based**, **competitive learning** , **supervised**, **lazy learning algorithms**, and **non-parametric**. <br>\n",
    "\n",
    "**Instance-based**: k-NN is an extreme form of instance-based method as it makes use of all training observations to predict. <br>\n",
    "**Competitive learning**: It internally uses competition between model elements(data instances), such as most similar or closest instance, in order to make a predictive decision. <br>\n",
    "**Supervised**: It makes use of labeled training data to make prediction. <br>\n",
    "**Lazy learning**: Refers to the fact that the algorithm does not build a model until the time that a prediction is required. It is lazy because it only does work at the last second. <br>\n",
    "\n",
    "Finally, kNN is powerful because it does not assume anything about the data, other than a distance measure can be calculated consistently between any two instances. As such, it is called **non-parametric or non-linear** as it does not assume a functional form."
   ]
  },
  {
   "cell_type": "markdown",
   "metadata": {},
   "source": [
    "## Modelling steps for k-NN"
   ]
  },
  {
   "cell_type": "markdown",
   "metadata": {},
   "source": [
    "1. Have labeled data\n",
    "2. Select similarity/distance Metric\n",
    "3. Data pre-processing\n",
    "3. Pick k\n",
    "4. Get new sample to classify\n",
    "5. Select the k entries that are closest/similar to the new sample\n",
    "6. Take a simple majority/Average/Weighted Average vote to get final prediction\n",
    "\n",
    "We will use [iris](https://archive.ics.uci.edu/ml/datasets/iris) datasets for **classification** and [boston housing price](https://www.cs.toronto.edu/~delve/data/boston/bostonDetail.html) dataset for **regression** using knn. <br><br>\n",
    "*Note: We will only code the algorithm form scratch but will make use of various python libraries for data handling and interpretations*\n"
   ]
  },
  {
   "cell_type": "code",
   "execution_count": 1,
   "metadata": {},
   "outputs": [],
   "source": [
    "# Installing basic libraries we will need\n",
    "import matplotlib.pyplot as plt\n",
    "import numpy as np\n",
    "import pandas as pd\n",
    "import seaborn as sns\n",
    "import operator\n",
    "from sklearn import datasets\n",
    "from sklearn.model_selection import train_test_split\n",
    "from sklearn.preprocessing import MinMaxScaler\n",
    "from collections import  Counter\n",
    "import timeit\n",
    "from sklearn.neighbors import KNeighborsRegressor\n",
    "\n",
    "import warnings\n",
    "warnings.filterwarnings('ignore')\n",
    "\n",
    "palette = \"Dark2\"\n",
    "%matplotlib inline"
   ]
  },
  {
   "cell_type": "markdown",
   "metadata": {},
   "source": [
    "### 1. Have Labeled data"
   ]
  },
  {
   "cell_type": "code",
   "execution_count": 2,
   "metadata": {},
   "outputs": [
    {
     "data": {
      "text/html": [
       "<div>\n",
       "<style scoped>\n",
       "    .dataframe tbody tr th:only-of-type {\n",
       "        vertical-align: middle;\n",
       "    }\n",
       "\n",
       "    .dataframe tbody tr th {\n",
       "        vertical-align: top;\n",
       "    }\n",
       "\n",
       "    .dataframe thead th {\n",
       "        text-align: right;\n",
       "    }\n",
       "</style>\n",
       "<table border=\"1\" class=\"dataframe\">\n",
       "  <thead>\n",
       "    <tr style=\"text-align: right;\">\n",
       "      <th></th>\n",
       "      <th>sepal_length</th>\n",
       "      <th>sepal_width</th>\n",
       "      <th>petal_length</th>\n",
       "      <th>petal_width</th>\n",
       "      <th>species</th>\n",
       "    </tr>\n",
       "  </thead>\n",
       "  <tbody>\n",
       "    <tr>\n",
       "      <th>0</th>\n",
       "      <td>5.1</td>\n",
       "      <td>3.5</td>\n",
       "      <td>1.4</td>\n",
       "      <td>0.2</td>\n",
       "      <td>setosa</td>\n",
       "    </tr>\n",
       "    <tr>\n",
       "      <th>1</th>\n",
       "      <td>4.9</td>\n",
       "      <td>3.0</td>\n",
       "      <td>1.4</td>\n",
       "      <td>0.2</td>\n",
       "      <td>setosa</td>\n",
       "    </tr>\n",
       "    <tr>\n",
       "      <th>2</th>\n",
       "      <td>4.7</td>\n",
       "      <td>3.2</td>\n",
       "      <td>1.3</td>\n",
       "      <td>0.2</td>\n",
       "      <td>setosa</td>\n",
       "    </tr>\n",
       "  </tbody>\n",
       "</table>\n",
       "</div>"
      ],
      "text/plain": [
       "   sepal_length  sepal_width  petal_length  petal_width species\n",
       "0           5.1          3.5           1.4          0.2  setosa\n",
       "1           4.9          3.0           1.4          0.2  setosa\n",
       "2           4.7          3.2           1.3          0.2  setosa"
      ]
     },
     "execution_count": 2,
     "metadata": {},
     "output_type": "execute_result"
    }
   ],
   "source": [
    "# Load data\n",
    "iris_sns = sns.load_dataset(\"iris\")\n",
    "iris_sns.head(3)"
   ]
  },
  {
   "cell_type": "code",
   "execution_count": 3,
   "metadata": {},
   "outputs": [],
   "source": [
    "# Split the data into train and test\n",
    "from sklearn.model_selection import train_test_split\n",
    "X = np.array(iris_sns.iloc[:,:-1])\n",
    "y = np.array(iris_sns.iloc[:,-1])\n",
    "X_train, X_test, y_train, y_test = train_test_split(X, y, test_size=0.3, random_state=42)"
   ]
  },
  {
   "cell_type": "markdown",
   "metadata": {},
   "source": [
    "### 2. Select similarity/distance metric"
   ]
  },
  {
   "cell_type": "markdown",
   "metadata": {},
   "source": [
    "**Distance Metrics**\n",
    "1. [Euclidean distance](https://en.wikipedia.org/wiki/Euclidean_distance)\n",
    "2. [Hamming distance](https://en.wikipedia.org/wiki/Hamming_distance)\n",
    "4. [Manhattan](https://en.wikipedia.org/wiki/Taxicab_geometry)\n",
    "5. [Minkowski](https://en.wikipedia.org/wiki/Minkowski_distance)\n",
    "5. [Mahalanobis distance](https://en.wikipedia.org/wiki/Mahalanobis_distance)\n",
    "\n",
    "**Similarity Metrics**\n",
    "1. [Cosine Similarity](https://en.wikipedia.org/wiki/Cosine_similarity)\n",
    "2. [Jaccard Index](https://en.wikipedia.org/wiki/Jaccard_index)\n",
    "3. [Pearson Correlation Coefficient](https://en.wikipedia.org/wiki/Pearson_correlation_coefficient)\n",
    "4. [KL Divergence](https://en.wikipedia.org/wiki/Kullback%E2%80%93Leibler_divergence)\n",
    "\n",
    "<br>There are a large number of distance/similarity metrics available and selection of right metric is governed by **problem at hand and domanin knowledge**. I will not discuss all of above metric in this notebook but will create a new notebook for these metrics and their comparisons. For current problem we will go ahead with **Euclidean distance** as our distance metric. Let's define a function for our distance metric\n"
   ]
  },
  {
   "cell_type": "code",
   "execution_count": 4,
   "metadata": {},
   "outputs": [],
   "source": [
    "def eculidean_distance(point1,point2):\n",
    "    if len(point1) != len(point2) :\n",
    "        raise ValueError('feature length not matching')\n",
    "    else:\n",
    "        return np.sqrt(np.sum((np.array(point1) - np.array(point2))**2))"
   ]
  },
  {
   "cell_type": "markdown",
   "metadata": {},
   "source": [
    "### 3. Data Pre-processing\n",
    "Based on the similarity/distance metrics, we need to standardize/normalize our data so that no single feature influences the distance a lot. We can either use **Normalization** which scales features between 0 and 1 or **Standardization** so that we have a mean of 0 and standard deviation of 1. For this notebook we will use **MinMaxScale**  for sklearn."
   ]
  },
  {
   "cell_type": "code",
   "execution_count": 5,
   "metadata": {},
   "outputs": [],
   "source": [
    "scale = MinMaxScaler()\n",
    "X_train = scale.fit_transform(X_train)\n",
    "X_test = scale.transform(X_test)"
   ]
  },
  {
   "cell_type": "markdown",
   "metadata": {},
   "source": [
    "Note that we use `fit_transform()` for `X_train` but only `transform()` for `X_test` as we want to use same scale transformation for both train and test which is derived based on train data "
   ]
  },
  {
   "cell_type": "markdown",
   "metadata": {},
   "source": [
    "### 4. k nearest neighbours\n",
    "For knn to work, we need the ability to find k nearest neighbours. Let's define a function which does this."
   ]
  },
  {
   "cell_type": "code",
   "execution_count": 6,
   "metadata": {},
   "outputs": [],
   "source": [
    "def get_neighbors(train_set_data_points, test_feature_data_point, k):\n",
    "    \n",
    "    # Calculate the distances and store in distances\n",
    "    distances = []\n",
    "    for index in range(len(train_set_data_points)):\n",
    "        dist = euclidean_distance(test_feature_data_point, train_set_data_points[index])\n",
    "        distances.append((train_set_data_points[index], dist, index))\n",
    "        \n",
    "    # Sorting the distances in ascending order\n",
    "    distances.sort(key=operator.itemgetter(1))\n",
    "    \n",
    "    # Select k neighbours\n",
    "    neighbors = []\n",
    "    for index in range(k):\n",
    "        neighbors.append(distances[index][2])\n",
    "    return neighbors"
   ]
  },
  {
   "cell_type": "markdown",
   "metadata": {},
   "source": [
    "*Note: If you decide to use a different distance/similarity metrics, just change the logic in above function.* <br> <br> **We can also vectorize and merge the distance calculation and selecting k neighbours in a single function**"
   ]
  },
  {
   "cell_type": "code",
   "execution_count": 7,
   "metadata": {},
   "outputs": [],
   "source": [
    "def get_neighbors_optimized(train_set, test_set, k):\n",
    "\n",
    "    # calculate euclidean distance\n",
    "    euc_distance = np.sqrt(np.sum((train_set - test_set)**2 , axis=1))\n",
    "    # return the index of nearest neighbour\n",
    "    return np.argsort(euc_distance)[0:k]"
   ]
  },
  {
   "cell_type": "markdown",
   "metadata": {},
   "source": [
    "### 5. Predictiction\n",
    "\n",
    "The method of prediction depends on the problem and there are various ways in which we can make predictions. Since we have a classification problem, we will use majority voting as our prediction function. We will also define a mean function for regression."
   ]
  },
  {
   "cell_type": "code",
   "execution_count": 8,
   "metadata": {},
   "outputs": [],
   "source": [
    "def predict_classifier(train_set, train_label, test_set, k):\n",
    "        \n",
    "        # get the index of all nearest neighbouring data points\n",
    "        nearest_data_point_index = get_neighbors_optimized(train_set, test_set, k)\n",
    "        \n",
    "        # Majority voting\n",
    "        nearest_data_point_labels = train_label[nearest_data_point_index]\n",
    "        vote_counts = Counter(nearest_data_point_labels)\n",
    "        \n",
    "        # return the class that has most votes\n",
    "        return max(vote_counts, key=lambda k: vote_counts[k])"
   ]
  },
  {
   "cell_type": "code",
   "execution_count": 9,
   "metadata": {},
   "outputs": [],
   "source": [
    "def predict_regressor(train_set, train_label, test_set, k):\n",
    "        \n",
    "        # get the index of all nearest neighbouring data points\n",
    "        nearest_data_point_index = get_neighbors_optimized(train_set, test_set, k)\n",
    "        \n",
    "        # Mean across all neighbours\n",
    "        nearest_data_point_labels = train_label[nearest_data_point_index]\n",
    "        return np.mean(nearest_data_point_labels)"
   ]
  },
  {
   "cell_type": "markdown",
   "metadata": {},
   "source": [
    "**Note: If you decide to use a different way of calculating the final prediction, juts update the function's above with new logic** <br><br> Let's define few performance metrics so we can evaluate how well our model is performing.\n",
    "### Evaluation Metrics\n",
    "We will define **RMSE** and **Accuracy** as our metrics for this notebook."
   ]
  },
  {
   "cell_type": "code",
   "execution_count": 10,
   "metadata": {},
   "outputs": [],
   "source": [
    "def get_rmse(y, y_pred):\n",
    "    mse = np.mean((y - y_pred)**2)\n",
    "    return round(np.sqrt(mse), 4)\n",
    "\n",
    "def get_accuracy(y, y_pred):\n",
    "    cnt = np.equal(y,y_pred).sum()\n",
    "    return round(cnt/len(y), 2)"
   ]
  },
  {
   "cell_type": "markdown",
   "metadata": {},
   "source": [
    "### Creating a new class for kNN\n",
    "For ease of use and standardization, lets define a class with all the relevant functions."
   ]
  },
  {
   "cell_type": "code",
   "execution_count": 11,
   "metadata": {},
   "outputs": [],
   "source": [
    "class Knn():\n",
    "    def __init__(self, k, weights=None):\n",
    "        self.k = k\n",
    "        self.weights = weights\n",
    "\n",
    "    def get_neighbors_optimized(self, train_set, test_set, k):\n",
    "        euc_distance = np.sqrt(np.sum((train_set - test_set)**2 , axis=1))\n",
    "        # return the index of nearest neighbour\n",
    "        return np.argsort(euc_distance)[0:k]\n",
    "    \n",
    "    def fit(self, train_feature, train_label):\n",
    "        self.train_feature = train_feature\n",
    "        self.train_label = train_label\n"
   ]
  },
  {
   "cell_type": "code",
   "execution_count": 12,
   "metadata": {},
   "outputs": [],
   "source": [
    "class KnnClassifier(Knn):\n",
    "\n",
    "    def predict(self, test_feature_data_point):\n",
    "        # get the index of all nearest neighbouring data points\n",
    "        pred = []\n",
    "        for i in range(len(test_feature_data_point)):\n",
    "            nearest_point_index = self.get_neighbors_optimized(self.train_feature, test_feature_data_point[i]\\\n",
    "                                                               , self.k)\n",
    "        \n",
    "            # Majority voting\n",
    "            nearest_point_labels = self.train_label[nearest_point_index]\n",
    "            vote_counts = Counter(nearest_point_labels)\n",
    "        \n",
    "            # return the class that has most votes\n",
    "            pred.append(max(vote_counts, key=lambda k: vote_counts[k]))\n",
    "        return np.array(pred)"
   ]
  },
  {
   "cell_type": "code",
   "execution_count": 13,
   "metadata": {},
   "outputs": [],
   "source": [
    "class KnnRegression(Knn):\n",
    "\n",
    "    def predict(self, test_feature_data_point):\n",
    "        pred = []\n",
    "        for i in range(len(test_feature_data_point)):\n",
    "            nearest_point_index = self.get_neighbors_optimized(self.train_feature,\\\n",
    "                                                               test_feature_data_point[i], self.k)\n",
    "        \n",
    "            # Mean across all neighbours\n",
    "            nearest_point_labels = self.train_label[nearest_point_index]\n",
    "            pred.append(np.mean(nearest_point_labels))\n",
    "        return np.array(pred)"
   ]
  },
  {
   "cell_type": "markdown",
   "metadata": {},
   "source": [
    "### 6.Tunning k value and predicting with new kNN class"
   ]
  },
  {
   "cell_type": "code",
   "execution_count": 14,
   "metadata": {},
   "outputs": [
    {
     "data": {
      "image/png": "[encoded data removed]",
      "text/plain": [
       "<Figure size 432x288 with 1 Axes>"
      ]
     },
     "metadata": {},
     "output_type": "display_data"
    }
   ],
   "source": [
    "knn_iris_acc = []\n",
    "for k in range(2, len(X_train)):\n",
    "    clf = KnnClassifier(k)\n",
    "    clf.fit(X_train, y_train)\n",
    "    iris_target_pred = clf.predict(X_test)\n",
    "    knn_iris_acc.append(get_accuracy(iris_target_pred, y_test))\n",
    "\n",
    "plt.plot(range(2,len(X_train)), knn_iris_acc)\n",
    "plt.xlabel('Number of neighbours')\n",
    "plt.ylabel('Accuracy')\n",
    "plt.grid()\n",
    "plt.show()"
   ]
  },
  {
   "cell_type": "markdown",
   "metadata": {},
   "source": [
    "The plot of the accuracy vs K value gives us information regarding which k gives the best performance, In our case `k=2 to 30` or so gives `accuracy` as `1`. So, we can go with **lowest** `k=2` to reduce computational cost. Also we should get best k value on validation set. We have used our test set as validation set in above example. Lets explore a regression example as well."
   ]
  },
  {
   "cell_type": "markdown",
   "metadata": {},
   "source": [
    "### Impact of k on decision boundry"
   ]
  },
  {
   "cell_type": "code",
   "execution_count": 15,
   "metadata": {},
   "outputs": [
    {
     "data": {
      "image/png": "[encoded data removed]",
      "text/plain": [
       "<Figure size 864x720 with 4 Axes>"
      ]
     },
     "metadata": {},
     "output_type": "display_data"
    }
   ],
   "source": [
    "from matplotlib.colors import ListedColormap\n",
    "from sklearn import neighbors, datasets\n",
    "\n",
    "n_neighbors = [2, 5, 20, 40]\n",
    "\n",
    "# import some data to play with\n",
    "iris = datasets.load_iris()\n",
    "X_train = iris.data[:, :2]\n",
    "y_train = iris.target\n",
    "\n",
    "\n",
    "h = .02  # step size in the mesh\n",
    "\n",
    "# Create color maps\n",
    "cmap_light = ListedColormap(['#FFAAAA', '#AAFFAA', '#AAAAFF'])\n",
    "cmap_bold = ListedColormap(['#FF0000', '#00FF00', '#0000FF'])\n",
    "\n",
    "x_min, x_max = X_train[:, 0].min() - 1, X_train[:, 0].max() + 1\n",
    "y_min, y_max = X_train[:, 1].min() - 1, X_train[:, 1].max() + 1\n",
    "xx, yy = np.meshgrid(np.arange(x_min, x_max, h),\n",
    "                         np.arange(y_min, y_max, h))\n",
    "\n",
    "plt.figure(figsize=(12,10))\n",
    "\n",
    "for i,k in enumerate(n_neighbors):\n",
    "    # we create an instance of Neighbours Classifier and fit the data.\n",
    "    clf = KnnClassifier(k)\n",
    "    clf.fit(X_train, y_train)\n",
    "\n",
    "    # Plot the decision boundary. For that, we will assign a color to each\n",
    "    # point in the mesh [x_min, x_max]x[y_min, y_max].\n",
    "    \n",
    "    Z = clf.predict(np.c_[xx.ravel(), yy.ravel()])\n",
    "\n",
    "    # Put the result into a color plot\n",
    "    Z = Z.reshape(xx.shape)\n",
    "    plt.subplot(221+i)\n",
    "    plt.pcolormesh(xx, yy, Z, cmap=cmap_light)\n",
    "\n",
    "    # Plot also the training points\n",
    "    plt.scatter(X_train[:, 0], X_train[:, 1], c=y_train, cmap=cmap_bold)\n",
    "    plt.xlim(xx.min(), xx.max())\n",
    "    plt.ylim(yy.min(), yy.max())\n",
    "    plt.title(\"3-Class classification (k = %i)\"\n",
    "              % (k))\n",
    "\n",
    "plt.show()"
   ]
  },
  {
   "cell_type": "markdown",
   "metadata": {},
   "source": [
    "**From above figure we can see that, as k increases, the decision boundary becomes smoother.**"
   ]
  },
  {
   "cell_type": "markdown",
   "metadata": {},
   "source": [
    "### Regression with knn"
   ]
  },
  {
   "cell_type": "code",
   "execution_count": 16,
   "metadata": {},
   "outputs": [
    {
     "data": {
      "image/png": "[encoded data removed]",
      "text/plain": [
       "<Figure size 432x288 with 1 Axes>"
      ]
     },
     "metadata": {},
     "output_type": "display_data"
    }
   ],
   "source": [
    "boston = datasets.load_boston()\n",
    "boston_rmse = []\n",
    "X = boston.data\n",
    "y = boston.target\n",
    "\n",
    "# Train test split\n",
    "X_train, X_test, y_train, y_test = train_test_split(X, y, test_size=0.3, random_state=42)\n",
    "\n",
    "# Scale the date\n",
    "scale = MinMaxScaler()\n",
    "X_train = scale.fit_transform(X_train)\n",
    "X_test = scale.transform(X_test)\n",
    "\n",
    "knn_boston_rmse = []\n",
    "for k in range(2, len(X_train)):\n",
    "    reg = KnnRegression(k)\n",
    "    reg.fit(X_train, y_train)\n",
    "    boston_pred = []\n",
    "    boston_target_pred = reg.predict(X_test)\n",
    "    boston_rmse.append(get_rmse(boston_target_pred, y_test))\n",
    "\n",
    "plt.plot(range(2,len(X_train)), boston_rmse)\n",
    "plt.xlabel('Number of neighbours')\n",
    "plt.ylabel('RMSE')\n",
    "plt.grid()\n",
    "plt.show()"
   ]
  },
  {
   "cell_type": "markdown",
   "metadata": {},
   "source": [
    "So above graph also tells us that lower k values are much better for our predictions compared to higher ones."
   ]
  },
  {
   "cell_type": "markdown",
   "metadata": {},
   "source": [
    "## Comparision of our implementation with Scikit Learn Package"
   ]
  },
  {
   "cell_type": "code",
   "execution_count": 17,
   "metadata": {},
   "outputs": [
    {
     "data": {
      "text/plain": [
       "4.187909445811333"
      ]
     },
     "execution_count": 17,
     "metadata": {},
     "output_type": "execute_result"
    }
   ],
   "source": [
    "m = KNeighborsRegressor(n_neighbors=2)\n",
    "m.fit(X_train, y_train)\n",
    "pred = m.predict(X_test)\n",
    "from sklearn.metrics import mean_squared_error\n",
    "np.sqrt(mean_squared_error(y_test,pred))"
   ]
  },
  {
   "cell_type": "code",
   "execution_count": 18,
   "metadata": {},
   "outputs": [
    {
     "data": {
      "text/plain": [
       "4.1879"
      ]
     },
     "execution_count": 18,
     "metadata": {},
     "output_type": "execute_result"
    }
   ],
   "source": [
    "reg = KnnRegression(2)\n",
    "reg.fit(X_train, y_train)\n",
    "pred = reg.predict(X_test)\n",
    "get_rmse(y_test,pred)"
   ]
  },
  {
   "cell_type": "markdown",
   "metadata": {},
   "source": [
    "**We can see that our implementation predictions matches with the sklearn predictions.**"
   ]
  },
  {
   "cell_type": "markdown",
   "metadata": {},
   "source": [
    "## Pro's and Con's of using kNN\n",
    "### Pro's\n",
    "1. Simple - easy to apply and interpret\n",
    "2. No assumptions about distribution of data - useful for ill-tempered data\n",
    "3. No training\n",
    "\n",
    "### Con's\n",
    "1. High memory requirement - stores all of the data\n",
    "2. Computationally expensive - must compute all distances\n",
    "3. Sensitive to irrelevant features and the feature scaling\n",
    "4. Not very good for high dimensional data"
   ]
  },
  {
   "cell_type": "markdown",
   "metadata": {},
   "source": [
    "## Time complexity and working with large data"
   ]
  },
  {
   "cell_type": "markdown",
   "metadata": {},
   "source": [
    "Since the algorithm of kNN requires us to calculate the distance of the test point from each point in training, the time complexity is **linear i.e O(n)** and **computation time increases as number of training points increases**. So, it the data set is very large with lot of dimension, the algorithm becomes really slow. Let's see this problem through following code:"
   ]
  },
  {
   "cell_type": "code",
   "execution_count": 19,
   "metadata": {},
   "outputs": [
    {
     "name": "stdout",
     "output_type": "stream",
     "text": [
      "Time elapsed (hh:mm:ss.ms) 0.26026112699992154 for 105 number of data points in training\n"
     ]
    }
   ],
   "source": [
    "# import some data to play with\n",
    "iris = datasets.load_iris()\n",
    "X = iris.data\n",
    "y = iris.target\n",
    "X_train, X_test, y_train, y_test = train_test_split(X, y, test_size=0.3, random_state=42)\n",
    "n = X_train.shape[0]\n",
    "k=5\n",
    "\n",
    "def knn_time():\n",
    "    clf = KnnClassifier(k)\n",
    "    clf.fit(X_train, y_train)\n",
    "    iris_target_pred = clf.predict(X_test)\n",
    "\n",
    "print('Time elapsed (hh:mm:ss.ms) {} for {} number of data points in training'.format(timeit.timeit(knn_time,number=100), n))"
   ]
  },
  {
   "cell_type": "code",
   "execution_count": 20,
   "metadata": {},
   "outputs": [],
   "source": [
    "X_train_large = np.array(list(X_train)*100)\n",
    "y_train_large = np.array(list(y_train)*100)\n",
    "n = X_train_large.shape[0]"
   ]
  },
  {
   "cell_type": "code",
   "execution_count": 21,
   "metadata": {},
   "outputs": [
    {
     "name": "stdout",
     "output_type": "stream",
     "text": [
      "Time elapsed (hh:mm:ss.ms) 6.6178982730002645 for 10500 number of data points in training\n"
     ]
    }
   ],
   "source": [
    "def knn_time():\n",
    "    clf = KnnClassifier(k)\n",
    "    clf.fit(X_train_large, y_train_large)\n",
    "    iris_target_pred = clf.predict(X_test)\n",
    "\n",
    "print('Time elapsed (hh:mm:ss.ms) {} for {} number of data points in training'.format(timeit.timeit(knn_time,number=100), n))\n"
   ]
  },
  {
   "cell_type": "markdown",
   "metadata": {},
   "source": [
    "From above code we can see that the **prediction time increases as the size of the training data increases**. We donot observe a 100 time increase in time because there is some addition system time also in play along with model computation time. Nevertheless, it shows us that kNN is not a good choice if we have large training data and the major time is spent in prediction which is not desired. To overcome this issue we can use **ANN** algos. **ANN helps us reduce the probable data set on which we need to perform nearest neighbour search making the model complexity sublinear.**. We will discuss **ANN's** in a separate  notebook "
   ]
  },
  {
   "cell_type": "markdown",
   "metadata": {},
   "source": [
    "## Summary"
   ]
  },
  {
   "cell_type": "markdown",
   "metadata": {},
   "source": [
    "If you wish to apply kNN in practice  proceed as follows:\n",
    "1. Get labeled data set\n",
    "2. Split in train-validation split\n",
    "3. Preprocess the data (Normalize/Standardize)\n",
    "4. Dimensionality reduction if required\n",
    "5. Choose distance/similarity metric\n",
    "6. Find k value by checking performance in validation set\n",
    "7. Get test data to make prediction\n",
    "8. Choose method of prediction (voting/Mean/Median/Weighted)\n",
    "7. Fit the model and predict\n",
    "8. Choose model performance metric \n"
   ]
  },
  {
   "cell_type": "code",
   "execution_count": null,
   "metadata": {},
   "outputs": [],
   "source": []
  }
 ],
 "metadata": {
  "kernelspec": {
   "display_name": "Python 3",
   "language": "python",
   "name": "python3"
  },
  "language_info": {
   "codemirror_mode": {
    "name": "ipython",
    "version": 3
   },
   "file_extension": ".py",
   "mimetype": "text/x-python",
   "name": "python",
   "nbconvert_exporter": "python",
   "pygments_lexer": "ipython3",
   "version": "3.6.5"
  }
 },
 "nbformat": 4,
 "nbformat_minor": 2
}
